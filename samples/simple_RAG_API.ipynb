{
 "cells": [
  {
   "metadata": {
    "ExecuteTime": {
     "end_time": "2025-06-10T08:55:37.872934Z",
     "start_time": "2025-06-10T08:55:35.266827Z"
    }
   },
   "cell_type": "code",
   "source": [
    "import os\n",
    "from dotenv import load_dotenv\n",
    "import requests\n",
    "\n",
    "from langchain_openai import ChatOpenAI\n",
    "from langchain.agents import create_openai_tools_agent, AgentExecutor\n",
    "from langchain_core.prompts import ChatPromptTemplate, MessagesPlaceholder\n",
    "from langchain.tools import tool\n",
    "\n",
    "load_dotenv()\n",
    "WEATHER_API_KEY = os.getenv(\"WEATHER_API_KEY\")\n",
    "\n",
    "\n",
    "@tool\n",
    "def get_current_weather(city: str) -> str:\n",
    "    \"\"\"Use this tool to get the current weather for a specific city.\"\"\"\n",
    "\n",
    "    base_url = \"http://api.openweathermap.org/data/2.5/weather\"\n",
    "    params = {\n",
    "        'q': city,\n",
    "        'appid': WEATHER_API_KEY,\n",
    "        'units': 'metric',\n",
    "        'lang': 'fa'\n",
    "    }\n",
    "    try:\n",
    "        response = requests.get(base_url, params=params)\n",
    "        response.raise_for_status()\n",
    "        data = response.json()\n",
    "\n",
    "        return f\"Current weather in {city}: {data['weather'][0]['description']}, Temperature: {data['main']['temp']}°C\"\n",
    "\n",
    "    except requests.exceptions.HTTPError as http_err:\n",
    "        if response.status_code == 404:\n",
    "            return f\"Unfortunately, the city {city} is not available.\"\n",
    "        return f\"An HTTP error occurred: {http_err}\"\n",
    "\n",
    "\n",
    "tools = [get_current_weather]\n",
    "\n",
    "SYSTEM_MESSAGE = \"\"\"\n",
    "                You are a helpful assistant whose only job is to provide the current weather for a specific city.\n",
    "                You MUST use the `get_current_weather` tool to answer the user's questions.\n",
    "                Provide the final answer to the user in a clear and complete sentence.\n",
    "                \"\"\"\n",
    "\n",
    "prompt = ChatPromptTemplate.from_messages([\n",
    "    (\"system\", SYSTEM_MESSAGE),\n",
    "    (\"user\", \"{input}\"),\n",
    "    MessagesPlaceholder(variable_name=\"agent_scratchpad\"),\n",
    "])\n",
    "\n",
    "llm = ChatOpenAI(model=\"gpt-3.5-turbo\", temperature=0)\n",
    "agent = create_openai_tools_agent(llm=llm, tools=tools, prompt=prompt)\n",
    "agent_executor = AgentExecutor(\n",
    "    agent=agent,\n",
    "    tools=tools,\n",
    "    verbose=True,\n",
    "    handle_parsing_errors=True\n",
    ")\n",
    "\n",
    "\n",
    "def ask_agent(question):\n",
    "    print(f\"user question: {question}\")\n",
    "    response = agent_executor.invoke({\"input\": question})\n",
    "    print(\"Agent response:\")\n",
    "    print(response[\"output\"])"
   ],
   "id": "9e202fe253653423",
   "outputs": [],
   "execution_count": 1
  },
  {
   "metadata": {
    "ExecuteTime": {
     "end_time": "2025-06-10T08:57:55.589487Z",
     "start_time": "2025-06-10T08:57:53.291301Z"
    }
   },
   "cell_type": "code",
   "source": "ask_agent(\"Should I take a jacket if I go to Paris today?\")",
   "id": "5623a80850004414",
   "outputs": [
    {
     "name": "stdout",
     "output_type": "stream",
     "text": [
      "user question: Should I take a jacket if I go to Paris today?\n",
      "\n",
      "\n",
      "\u001B[1m> Entering new AgentExecutor chain...\u001B[0m\n",
      "\u001B[32;1m\u001B[1;3m\n",
      "Invoking: `get_current_weather` with `{'city': 'Paris'}`\n",
      "\n",
      "\n",
      "\u001B[0m\u001B[36;1m\u001B[1;3mCurrent weather in Paris: آسمان صاف, Temperature: 19.3°C\u001B[0m\u001B[32;1m\u001B[1;3mYou may not need a jacket in Paris today as the current temperature is 19.3°C with clear skies.\u001B[0m\n",
      "\n",
      "\u001B[1m> Finished chain.\u001B[0m\n",
      "Agent response:\n",
      "You may not need a jacket in Paris today as the current temperature is 19.3°C with clear skies.\n"
     ]
    }
   ],
   "execution_count": 6
  },
  {
   "metadata": {},
   "cell_type": "code",
   "source": [
    "\n",
    "ask_agent(\"What is the current weather in London?\")\n",
    "ask_agent(\"Tell me the weather in Tehran.\")\n",
    "ask_agent(\"Should I take a jacket if I go to Paris today?\")\n",
    "ask_agent(\"I'm planning a walk in New York City, how is it outside?\")\n",
    "ask_agent(\"Could you check the temperature for Los Angeles?\")\n",
    "ask_agent(\"What's the weather like in Mexico City?\")\n",
    "ask_agent(\"How's the weather in the fictional city of Atlantis?\")\n",
    "ask_agent(\"What is the temperature in Celsius for Berlin right now?\")\n",
    "ask_agent(\"How hot is it in Dubai?\")\n",
    "ask_agent(\"What is the weather forecast for Tokyo tomorrow?\")"
   ],
   "id": "9082846a2030d88e",
   "outputs": [],
   "execution_count": null
  }
 ],
 "metadata": {
  "kernelspec": {
   "display_name": "Python 3",
   "language": "python",
   "name": "python3"
  },
  "language_info": {
   "codemirror_mode": {
    "name": "ipython",
    "version": 2
   },
   "file_extension": ".py",
   "mimetype": "text/x-python",
   "name": "python",
   "nbconvert_exporter": "python",
   "pygments_lexer": "ipython2",
   "version": "2.7.6"
  }
 },
 "nbformat": 4,
 "nbformat_minor": 5
}
