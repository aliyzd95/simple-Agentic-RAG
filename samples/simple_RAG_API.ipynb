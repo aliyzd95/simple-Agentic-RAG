{
 "cells": [
  {
   "metadata": {
    "ExecuteTime": {
     "end_time": "2025-06-08T10:26:03.187445Z",
     "start_time": "2025-06-08T10:25:52.609037Z"
    }
   },
   "cell_type": "code",
   "source": [
    "import os\n",
    "from dotenv import load_dotenv\n",
    "import requests\n",
    "\n",
    "from langchain_openai import ChatOpenAI\n",
    "from langchain.agents import create_openai_tools_agent, AgentExecutor\n",
    "from langchain_core.prompts import ChatPromptTemplate, MessagesPlaceholder\n",
    "from langchain.tools import tool\n",
    "\n",
    "load_dotenv()\n",
    "WEATHER_API_KEY = os.getenv(\"WEATHER_API_KEY\")\n",
    "\n",
    "\n",
    "@tool\n",
    "def get_current_weather(city: str) -> str:\n",
    "    \"\"\"\n",
    "    برای گرفتن آب و هوای فعلی یک شهر مشخص از این ابزار استفاده کن.\n",
    "    ورودی باید نام شهر به انگلیسی یا فارسی باشد، مثلا: 'Tehran' یا 'اصفهان'.\n",
    "    \"\"\"\n",
    "    base_url = \"http://api.openweathermap.org/data/2.5/weather\"\n",
    "    params = {\n",
    "        'q': city,\n",
    "        'appid': WEATHER_API_KEY,\n",
    "        'units': 'metric',\n",
    "        'lang': 'fa'\n",
    "    }\n",
    "    try:\n",
    "        response = requests.get(base_url, params=params)\n",
    "        response.raise_for_status()\n",
    "        data = response.json()\n",
    "\n",
    "        description = data['weather'][0]['description']\n",
    "        temp = data['main']['temp']\n",
    "        humidity = data['main']['humidity']\n",
    "        wind_speed = data['wind']['speed']\n",
    "\n",
    "        return f\"آب و هوای فعلی در شهر {city}: {description}، دما {temp}°C، رطوبت {humidity}% و سرعت باد {wind_speed} متر بر ثانیه است.\"\n",
    "\n",
    "    except requests.exceptions.HTTPError as http_err:\n",
    "        if response.status_code == 404:\n",
    "            return f\"متاسفانه نتوانستم شهری به نام '{city}' را پیدا کنم. لطفاً نام شهر را به درستی وارد کنید.\"\n",
    "        return f\"HTTP error: {http_err}\"\n",
    "\n",
    "\n",
    "tools = [get_current_weather]\n",
    "\n",
    "SYSTEM_MESSAGE = \"\"\"\n",
    "تو یک دستیار مفید هستی که تنها وظیفه‌ات ارائه اطلاعات آب و هوای فعلی یک شهر مشخص است.\n",
    "برای پاسخ به سوالات کاربر، حتماً باید از ابزار `get_current_weather` استفاده کنی.\n",
    "پاسخ نهایی را به صورت کامل و روان به زبان فارسی به کاربر ارائه بده.\n",
    "\"\"\"\n",
    "\n",
    "prompt = ChatPromptTemplate.from_messages([\n",
    "    (\"system\", SYSTEM_MESSAGE),\n",
    "    (\"user\", \"{input}\"),\n",
    "    MessagesPlaceholder(variable_name=\"agent_scratchpad\"),\n",
    "])\n",
    "\n",
    "llm = ChatOpenAI(model=\"gpt-3.5-turbo\", temperature=0)\n",
    "agent = create_openai_tools_agent(llm=llm, tools=tools, prompt=prompt)\n",
    "agent_executor = AgentExecutor(\n",
    "    agent=agent,\n",
    "    tools=tools,\n",
    "    verbose=True,\n",
    "    handle_parsing_errors=True\n",
    ")\n",
    "\n",
    "\n",
    "def ask_agent(question):\n",
    "    print(f\"user question: {question}\")\n",
    "    response = agent_executor.invoke({\"input\": question})\n",
    "    print(\"Agent response:\")\n",
    "    print(response[\"output\"])\n",
    "\n",
    "    print(\"\\n\\n========================================\")\n",
    "\n",
    "\n",
    "ask_agent(\"هوای تهران چطوره؟\")\n",
    "\n"
   ],
   "id": "9e202fe253653423",
   "outputs": [
    {
     "name": "stdout",
     "output_type": "stream",
     "text": [
      "Agent آب و هوا در حال اجرا با سوالات تعریف شده...\n",
      "============================================================\n",
      "🤔 سوال شما: هوای تهران چطوره؟\n",
      "\n",
      "\n",
      "\u001B[1m> Entering new AgentExecutor chain...\u001B[0m\n",
      "\u001B[32;1m\u001B[1;3m\n",
      "Invoking: `get_current_weather` with `{'city': 'Tehran'}`\n",
      "\n",
      "\n",
      "\u001B[0m  [ابزار صدا زده شد: در حال دریافت آب و هوای شهر Tehran]\n",
      "\u001B[36;1m\u001B[1;3mآب و هوای فعلی در شهر Tehran: کمی ابری، دما 25.4°C، رطوبت 14% و سرعت باد 7.2 متر بر ثانیه است.\u001B[0m\u001B[32;1m\u001B[1;3mآب و هوای فعلی در تهران کمی ابری است با دمای 25.4 درجه سانتیگراد، رطوبت 14 درصد و سرعت باد 7.2 متر بر ثانیه.\u001B[0m\n",
      "\n",
      "\u001B[1m> Finished chain.\u001B[0m\n",
      "\n",
      "✅ پاسخ Agent:\n",
      "آب و هوای فعلی در تهران کمی ابری است با دمای 25.4 درجه سانتیگراد، رطوبت 14 درصد و سرعت باد 7.2 متر بر ثانیه.\n",
      "\n",
      "============================================================\n",
      "🤔 سوال شما: وضعیت آب و هوای شهر رشت چگونه است؟\n",
      "\n",
      "\n",
      "\u001B[1m> Entering new AgentExecutor chain...\u001B[0m\n",
      "\u001B[32;1m\u001B[1;3m\n",
      "Invoking: `get_current_weather` with `{'city': 'Rasht'}`\n",
      "\n",
      "\n",
      "\u001B[0m  [ابزار صدا زده شد: در حال دریافت آب و هوای شهر Rasht]\n",
      "\u001B[36;1m\u001B[1;3mآب و هوای فعلی در شهر Rasht: کمی ابری، دما 27.9°C، رطوبت 34% و سرعت باد 3.09 متر بر ثانیه است.\u001B[0m\u001B[32;1m\u001B[1;3mآب و هوای فعلی در شهر رشت کمی ابری است با دمای 27.9 درجه سانتی‌گراد، رطوبت 34 درصد و سرعت باد 3.09 متر بر ثانیه.\u001B[0m\n",
      "\n",
      "\u001B[1m> Finished chain.\u001B[0m\n",
      "\n",
      "✅ پاسخ Agent:\n",
      "آب و هوای فعلی در شهر رشت کمی ابری است با دمای 27.9 درجه سانتی‌گراد، رطوبت 34 درصد و سرعت باد 3.09 متر بر ثانیه.\n",
      "\n",
      "============================================================\n",
      "🤔 سوال شما: دمای هوای شهر لندن رو بهم بگو.\n",
      "\n",
      "\n",
      "\u001B[1m> Entering new AgentExecutor chain...\u001B[0m\n",
      "\u001B[32;1m\u001B[1;3m\n",
      "Invoking: `get_current_weather` with `{'city': 'London'}`\n",
      "\n",
      "\n",
      "\u001B[0m  [ابزار صدا زده شد: در حال دریافت آب و هوای شهر London]\n",
      "\u001B[36;1m\u001B[1;3mآب و هوای فعلی در شهر London: کمی ابری، دما 15.45°C، رطوبت 56% و سرعت باد 6.17 متر بر ثانیه است.\u001B[0m\u001B[32;1m\u001B[1;3mدمای هوای فعلی در شهر لندن 15.45 درجه سانتیگراد است و هوا کمی ابری می‌باشد.\u001B[0m\n",
      "\n",
      "\u001B[1m> Finished chain.\u001B[0m\n",
      "\n",
      "✅ پاسخ Agent:\n",
      "دمای هوای فعلی در شهر لندن 15.45 درجه سانتیگراد است و هوا کمی ابری می‌باشد.\n",
      "\n",
      "============================================================\n"
     ]
    }
   ],
   "execution_count": 6
  },
  {
   "metadata": {
    "ExecuteTime": {
     "end_time": "2025-06-08T10:32:12.773964Z",
     "start_time": "2025-06-08T10:32:08.742931Z"
    }
   },
   "cell_type": "code",
   "source": "ask_agent(\"وضعیت آب و هوای شهر رشت چگونه است؟\")",
   "id": "dd6eb5abee58480b",
   "outputs": [
    {
     "name": "stdout",
     "output_type": "stream",
     "text": [
      "🤔 سوال شما: وضعیت آب و هوای شهر رشت چگونه است؟\n",
      "\n",
      "\n",
      "\u001B[1m> Entering new AgentExecutor chain...\u001B[0m\n",
      "\u001B[32;1m\u001B[1;3m\n",
      "Invoking: `get_current_weather` with `{'city': 'Rasht'}`\n",
      "\n",
      "\n",
      "\u001B[0m  [ابزار صدا زده شد: در حال دریافت آب و هوای شهر Rasht]\n",
      "\u001B[36;1m\u001B[1;3mآب و هوای فعلی در شهر Rasht: کمی ابری، دما 27.9°C، رطوبت 34% و سرعت باد 3.09 متر بر ثانیه است.\u001B[0m\u001B[32;1m\u001B[1;3mآب و هوای فعلی در شهر رشت کمی ابری است با دمای 27.9 درجه سانتی‌گراد، رطوبت 34 درصد و سرعت باد 3.09 متر بر ثانیه.\u001B[0m\n",
      "\n",
      "\u001B[1m> Finished chain.\u001B[0m\n",
      "\n",
      "✅ پاسخ Agent:\n",
      "آب و هوای فعلی در شهر رشت کمی ابری است با دمای 27.9 درجه سانتی‌گراد، رطوبت 34 درصد و سرعت باد 3.09 متر بر ثانیه.\n",
      "\n",
      "============================================================\n"
     ]
    }
   ],
   "execution_count": 7
  },
  {
   "metadata": {
    "ExecuteTime": {
     "end_time": "2025-06-08T10:32:32.077754Z",
     "start_time": "2025-06-08T10:32:29.199108Z"
    }
   },
   "cell_type": "code",
   "source": "ask_agent(\"امروز تو لندن بارون اومد؟\")\n",
   "id": "102122e50cd2edc4",
   "outputs": [
    {
     "name": "stdout",
     "output_type": "stream",
     "text": [
      "🤔 سوال شما: امروز تو لندن بارون اومد؟\n",
      "\n",
      "\n",
      "\u001B[1m> Entering new AgentExecutor chain...\u001B[0m\n",
      "\u001B[32;1m\u001B[1;3m\n",
      "Invoking: `get_current_weather` with `{'city': 'London'}`\n",
      "\n",
      "\n",
      "\u001B[0m  [ابزار صدا زده شد: در حال دریافت آب و هوای شهر London]\n",
      "\u001B[36;1m\u001B[1;3mآب و هوای فعلی در شهر London: کمی ابری، دما 15.78°C، رطوبت 56% و سرعت باد 6.17 متر بر ثانیه است.\u001B[0m\u001B[32;1m\u001B[1;3mامروز در لندن باران نیامده است و هوا کمی ابری بوده است.\u001B[0m\n",
      "\n",
      "\u001B[1m> Finished chain.\u001B[0m\n",
      "\n",
      "✅ پاسخ Agent:\n",
      "امروز در لندن باران نیامده است و هوا کمی ابری بوده است.\n",
      "\n",
      "============================================================\n"
     ]
    }
   ],
   "execution_count": 8
  }
 ],
 "metadata": {
  "kernelspec": {
   "display_name": "Python 3",
   "language": "python",
   "name": "python3"
  },
  "language_info": {
   "codemirror_mode": {
    "name": "ipython",
    "version": 2
   },
   "file_extension": ".py",
   "mimetype": "text/x-python",
   "name": "python",
   "nbconvert_exporter": "python",
   "pygments_lexer": "ipython2",
   "version": "2.7.6"
  }
 },
 "nbformat": 4,
 "nbformat_minor": 5
}
